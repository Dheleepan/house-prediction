{
  "nbformat": 4,
  "nbformat_minor": 0,
  "metadata": {
    "colab": {
      "name": "Untitled",
      "provenance": [],
      "collapsed_sections": []
    },
    "kernelspec": {
      "display_name": "Python 3",
      "name": "python3"
    }
  },
  "cells": [
    {
      "cell_type": "code",
      "metadata": {
        "id": "nCdabbgcKrd4"
      },
      "source": [
        "import numpy as np\r\n",
        "import pandas as pd\r\n",
        "import matplotlib.pyplot as plt\r\n"
      ],
      "execution_count": 130,
      "outputs": []
    },
    {
      "cell_type": "code",
      "metadata": {
        "id": "_6uWUmsiLIgO",
        "colab": {
          "base_uri": "https://localhost:8080/",
          "height": 195
        },
        "outputId": "5049809d-cc7e-4c42-d2a2-0fb6230de625"
      },
      "source": [
        "dataset= pd.read_csv('train.csv')\r\n",
        "dataset.drop(['ADDRESS'],axis=1,inplace=True)\r\n",
        "dataset.head()\r\n"
      ],
      "execution_count": 131,
      "outputs": [
        {
          "output_type": "execute_result",
          "data": {
            "text/html": [
              "<div>\n",
              "<style scoped>\n",
              "    .dataframe tbody tr th:only-of-type {\n",
              "        vertical-align: middle;\n",
              "    }\n",
              "\n",
              "    .dataframe tbody tr th {\n",
              "        vertical-align: top;\n",
              "    }\n",
              "\n",
              "    .dataframe thead th {\n",
              "        text-align: right;\n",
              "    }\n",
              "</style>\n",
              "<table border=\"1\" class=\"dataframe\">\n",
              "  <thead>\n",
              "    <tr style=\"text-align: right;\">\n",
              "      <th></th>\n",
              "      <th>POSTED_BY</th>\n",
              "      <th>UNDER_CONSTRUCTION</th>\n",
              "      <th>RERA</th>\n",
              "      <th>BHK_NO.</th>\n",
              "      <th>BHK_OR_RK</th>\n",
              "      <th>SQUARE_FT</th>\n",
              "      <th>READY_TO_MOVE</th>\n",
              "      <th>RESALE</th>\n",
              "      <th>LONGITUDE</th>\n",
              "      <th>LATITUDE</th>\n",
              "      <th>TARGET(PRICE_IN_LACS)</th>\n",
              "    </tr>\n",
              "  </thead>\n",
              "  <tbody>\n",
              "    <tr>\n",
              "      <th>0</th>\n",
              "      <td>Owner</td>\n",
              "      <td>0</td>\n",
              "      <td>0</td>\n",
              "      <td>2</td>\n",
              "      <td>BHK</td>\n",
              "      <td>1300.236407</td>\n",
              "      <td>1</td>\n",
              "      <td>1</td>\n",
              "      <td>12.969910</td>\n",
              "      <td>77.597960</td>\n",
              "      <td>55.0</td>\n",
              "    </tr>\n",
              "    <tr>\n",
              "      <th>1</th>\n",
              "      <td>Dealer</td>\n",
              "      <td>0</td>\n",
              "      <td>0</td>\n",
              "      <td>2</td>\n",
              "      <td>BHK</td>\n",
              "      <td>1275.000000</td>\n",
              "      <td>1</td>\n",
              "      <td>1</td>\n",
              "      <td>12.274538</td>\n",
              "      <td>76.644605</td>\n",
              "      <td>51.0</td>\n",
              "    </tr>\n",
              "    <tr>\n",
              "      <th>2</th>\n",
              "      <td>Owner</td>\n",
              "      <td>0</td>\n",
              "      <td>0</td>\n",
              "      <td>2</td>\n",
              "      <td>BHK</td>\n",
              "      <td>933.159722</td>\n",
              "      <td>1</td>\n",
              "      <td>1</td>\n",
              "      <td>12.778033</td>\n",
              "      <td>77.632191</td>\n",
              "      <td>43.0</td>\n",
              "    </tr>\n",
              "    <tr>\n",
              "      <th>3</th>\n",
              "      <td>Owner</td>\n",
              "      <td>0</td>\n",
              "      <td>1</td>\n",
              "      <td>2</td>\n",
              "      <td>BHK</td>\n",
              "      <td>929.921143</td>\n",
              "      <td>1</td>\n",
              "      <td>1</td>\n",
              "      <td>28.642300</td>\n",
              "      <td>77.344500</td>\n",
              "      <td>62.5</td>\n",
              "    </tr>\n",
              "    <tr>\n",
              "      <th>4</th>\n",
              "      <td>Dealer</td>\n",
              "      <td>1</td>\n",
              "      <td>0</td>\n",
              "      <td>2</td>\n",
              "      <td>BHK</td>\n",
              "      <td>999.009247</td>\n",
              "      <td>0</td>\n",
              "      <td>1</td>\n",
              "      <td>22.592200</td>\n",
              "      <td>88.484911</td>\n",
              "      <td>60.5</td>\n",
              "    </tr>\n",
              "  </tbody>\n",
              "</table>\n",
              "</div>"
            ],
            "text/plain": [
              "  POSTED_BY  UNDER_CONSTRUCTION  ...   LATITUDE  TARGET(PRICE_IN_LACS)\n",
              "0     Owner                   0  ...  77.597960                   55.0\n",
              "1    Dealer                   0  ...  76.644605                   51.0\n",
              "2     Owner                   0  ...  77.632191                   43.0\n",
              "3     Owner                   0  ...  77.344500                   62.5\n",
              "4    Dealer                   1  ...  88.484911                   60.5\n",
              "\n",
              "[5 rows x 11 columns]"
            ]
          },
          "metadata": {
            "tags": []
          },
          "execution_count": 131
        }
      ]
    },
    {
      "cell_type": "code",
      "metadata": {
        "id": "zpn0XAliX872"
      },
      "source": [
        ""
      ],
      "execution_count": 131,
      "outputs": []
    },
    {
      "cell_type": "code",
      "metadata": {
        "colab": {
          "base_uri": "https://localhost:8080/"
        },
        "id": "r3YyxX3QX6Ux",
        "outputId": "7dbbcde0-14fe-465f-8964-87ff2cb4c52c"
      },
      "source": [
        "x= dataset.iloc[:,:-1].values\r\n",
        "y= dataset.iloc[:,-1].values\r\n",
        "print(x)"
      ],
      "execution_count": 195,
      "outputs": [
        {
          "output_type": "stream",
          "text": [
            "[['Owner' 0 0 ... 1 16.81170713468579 75.38575631808583]\n",
            " ['Dealer' 0 0 ... 1 16.81170713468579 75.38575631808583]\n",
            " ['Owner' 0 0 ... 1 16.81170713468579 75.38575631808583]\n",
            " ...\n",
            " ['Dealer' 0 0 ... 1 27.898205203324643 76.8866541645348]\n",
            " ['Owner' 0 0 ... 1 16.81170713468579 75.38575631808583]\n",
            " ['Dealer' 0 1 ... 1 27.898205203324643 76.8866541645348]]\n"
          ],
          "name": "stdout"
        }
      ]
    },
    {
      "cell_type": "code",
      "metadata": {
        "colab": {
          "base_uri": "https://localhost:8080/"
        },
        "id": "xCrByciGXfC9",
        "outputId": "10a29758-f1f9-4dc3-fa04-3f34a2815f66"
      },
      "source": [
        "x.shape"
      ],
      "execution_count": 133,
      "outputs": [
        {
          "output_type": "execute_result",
          "data": {
            "text/plain": [
              "(29451, 10)"
            ]
          },
          "metadata": {
            "tags": []
          },
          "execution_count": 133
        }
      ]
    },
    {
      "cell_type": "code",
      "metadata": {
        "colab": {
          "base_uri": "https://localhost:8080/",
          "height": 282
        },
        "id": "mA3DdJ-oYqRD",
        "outputId": "33dea0a5-b9c5-4522-95b6-176dccd3bcd6"
      },
      "source": [
        "plt.scatter(dataset['LONGITUDE'],dataset['LATITUDE'])"
      ],
      "execution_count": 134,
      "outputs": [
        {
          "output_type": "execute_result",
          "data": {
            "text/plain": [
              "<matplotlib.collections.PathCollection at 0x7f17a7de0048>"
            ]
          },
          "metadata": {
            "tags": []
          },
          "execution_count": 134
        },
        {
          "output_type": "display_data",
          "data": {
            "image/png": "[encoded data removed]",
            "text/plain": [
              "<Figure size 432x288 with 1 Axes>"
            ]
          },
          "metadata": {
            "tags": [],
            "needs_background": "light"
          }
        }
      ]
    },
    {
      "cell_type": "code",
      "metadata": {
        "id": "fEHcBoURsH9B",
        "outputId": "0cfb4910-c056-45ad-f2ac-babfeb3f635c",
        "colab": {
          "base_uri": "https://localhost:8080/",
          "height": 282
        }
      },
      "source": [
        "plt.scatter(test_data['LONGITUDE'],test_data['LATITUDE'])"
      ],
      "execution_count": 161,
      "outputs": [
        {
          "output_type": "execute_result",
          "data": {
            "text/plain": [
              "<matplotlib.collections.PathCollection at 0x7f17a823a208>"
            ]
          },
          "metadata": {
            "tags": []
          },
          "execution_count": 161
        },
        {
          "output_type": "display_data",
          "data": {
            "image/png": "[encoded data removed]",
            "text/plain": [
              "<Figure size 432x288 with 1 Axes>"
            ]
          },
          "metadata": {
            "tags": [],
            "needs_background": "light"
          }
        }
      ]
    },
    {
      "cell_type": "code",
      "metadata": {
        "id": "3Fg78E2UktAo",
        "colab": {
          "base_uri": "https://localhost:8080/"
        },
        "outputId": "ced8fa73-917f-468b-c750-3505bb28116f"
      },
      "source": [
        "test_data= pd.read_csv('test.csv')\r\n",
        "test_data.drop(['ADDRESS'],axis=1,inplace=True)\r\n",
        "x_1 =test_data.iloc[:,:].values\r\n",
        "print(x_1)"
      ],
      "execution_count": 135,
      "outputs": [
        {
          "output_type": "stream",
          "text": [
            "[['Owner' 0 0 ... 1 21.262 73.0477]\n",
            " ['Dealer' 1 1 ... 0 18.966114 73.148278]\n",
            " ['Dealer' 0 0 ... 1 22.5922 88.484911]\n",
            " ...\n",
            " ['Dealer' 1 1 ... 0 19.222101 72.988231]\n",
            " ['Dealer' 0 0 ... 1 18.49667 73.94167]\n",
            " ['Dealer' 0 0 ... 1 19.124896 72.89350300000002]]\n"
          ],
          "name": "stdout"
        }
      ]
    },
    {
      "cell_type": "code",
      "metadata": {
        "id": "84GzmeUml5y0"
      },
      "source": [
        ""
      ],
      "execution_count": 135,
      "outputs": []
    },
    {
      "cell_type": "code",
      "metadata": {
        "id": "hL-atxSsTdmS"
      },
      "source": [
        ""
      ],
      "execution_count": 135,
      "outputs": []
    },
    {
      "cell_type": "code",
      "metadata": {
        "id": "h-_HuSojQ7Dd",
        "colab": {
          "base_uri": "https://localhost:8080/"
        },
        "outputId": "bcd0bfb4-c37c-4247-b782-183a23482c52"
      },
      "source": [
        "x_1.shape"
      ],
      "execution_count": 136,
      "outputs": [
        {
          "output_type": "execute_result",
          "data": {
            "text/plain": [
              "(68720, 10)"
            ]
          },
          "metadata": {
            "tags": []
          },
          "execution_count": 136
        }
      ]
    },
    {
      "cell_type": "code",
      "metadata": {
        "id": "uXaoYcVkvqhw",
        "colab": {
          "base_uri": "https://localhost:8080/"
        },
        "outputId": "445e831a-4b03-45ee-cb0a-bceb80f12f50"
      },
      "source": [
        "x_1"
      ],
      "execution_count": 137,
      "outputs": [
        {
          "output_type": "execute_result",
          "data": {
            "text/plain": [
              "array([['Owner', 0, 0, ..., 1, 21.262, 73.0477],\n",
              "       ['Dealer', 1, 1, ..., 0, 18.966114, 73.148278],\n",
              "       ['Dealer', 0, 0, ..., 1, 22.5922, 88.484911],\n",
              "       ...,\n",
              "       ['Dealer', 1, 1, ..., 0, 19.222101, 72.988231],\n",
              "       ['Dealer', 0, 0, ..., 1, 18.49667, 73.94167],\n",
              "       ['Dealer', 0, 0, ..., 1, 19.124896, 72.89350300000002]],\n",
              "      dtype=object)"
            ]
          },
          "metadata": {
            "tags": []
          },
          "execution_count": 137
        }
      ]
    },
    {
      "cell_type": "code",
      "metadata": {
        "id": "aWloI_bMLrFg",
        "colab": {
          "base_uri": "https://localhost:8080/"
        },
        "outputId": "1f859f67-798e-453b-bbb9-afe704b6229d"
      },
      "source": [
        "print(x)"
      ],
      "execution_count": 138,
      "outputs": [
        {
          "output_type": "stream",
          "text": [
            "[['Owner' 0 0 ... 1 12.96991 77.59796]\n",
            " ['Dealer' 0 0 ... 1 12.274538 76.644605]\n",
            " ['Owner' 0 0 ... 1 12.778033 77.632191]\n",
            " ...\n",
            " ['Dealer' 0 0 ... 1 26.928785 75.828002]\n",
            " ['Owner' 0 0 ... 1 12.90015 80.22791]\n",
            " ['Dealer' 0 1 ... 1 26.832353 75.841749]]\n"
          ],
          "name": "stdout"
        }
      ]
    },
    {
      "cell_type": "code",
      "metadata": {
        "id": "KOLfE_h6LvbJ",
        "colab": {
          "base_uri": "https://localhost:8080/"
        },
        "outputId": "c9e86bef-c14d-4781-82a9-68bd6a801db0"
      },
      "source": [
        "print(y)"
      ],
      "execution_count": 139,
      "outputs": [
        {
          "output_type": "stream",
          "text": [
            "[55.  51.  43.  ... 27.1 67.  27.8]\n"
          ],
          "name": "stdout"
        }
      ]
    },
    {
      "cell_type": "code",
      "metadata": {
        "id": "cz865ifmojlF"
      },
      "source": [
        "from sklearn.preprocessing import LabelEncoder\r\n",
        "le = LabelEncoder()\r\n",
        "x[:,0] =le.fit_transform(x[:,0]) \r\n",
        "x[:,4] =le.fit_transform(x[:,4])\r\n",
        "x_1[:,0] =le.fit_transform(x_1[:,0]) \r\n",
        "x_1[:,4] =le.fit_transform(x_1[:,4]) \r\n",
        "\r\n"
      ],
      "execution_count": 143,
      "outputs": []
    },
    {
      "cell_type": "code",
      "metadata": {
        "id": "dCJp-MfaaHGZ",
        "outputId": "26891197-fdd8-4e53-d3bb-b950043c0a54",
        "colab": {
          "base_uri": "https://localhost:8080/",
          "height": 295
        }
      },
      "source": [
        "from sklearn.cluster import KMeans\r\n",
        "wcss = []\r\n",
        "for i in range(1, 11):\r\n",
        "    kmeans = KMeans(n_clusters = i, init = 'k-means++', random_state = 42)\r\n",
        "    kmeans.fit(dataset[['LONGITUDE','LATITUDE']])\r\n",
        "    wcss.append(kmeans.inertia_)\r\n",
        "plt.plot(range(1, 11), wcss)\r\n",
        "plt.title('The Elbow Method')\r\n",
        "plt.xlabel('Number of clusters')\r\n",
        "plt.ylabel('WCSS')\r\n",
        "plt.show()\r\n"
      ],
      "execution_count": 144,
      "outputs": [
        {
          "output_type": "display_data",
          "data": {
            "image/png": "[encoded data removed]",
            "text/plain": [
              "<Figure size 432x288 with 1 Axes>"
            ]
          },
          "metadata": {
            "tags": [],
            "needs_background": "light"
          }
        }
      ]
    },
    {
      "cell_type": "code",
      "metadata": {
        "id": "FEU7D8AHo2qU",
        "outputId": "c6f4a7f9-eaf1-46d7-bc96-21b4eeafdee2",
        "colab": {
          "base_uri": "https://localhost:8080/",
          "height": 295
        }
      },
      "source": [
        "from sklearn.cluster import KMeans\r\n",
        "wcss = []\r\n",
        "for i in range(1, 11):\r\n",
        "    kmeans = KMeans(n_clusters = i, init = 'k-means++', random_state = 42)\r\n",
        "    kmeans.fit(test_data[['LONGITUDE','LATITUDE']])\r\n",
        "    wcss.append(kmeans.inertia_)\r\n",
        "plt.plot(range(1, 11), wcss)\r\n",
        "plt.title('The Elbow Method')\r\n",
        "plt.xlabel('Number of clusters')\r\n",
        "plt.ylabel('WCSS')\r\n",
        "plt.show()"
      ],
      "execution_count": 149,
      "outputs": [
        {
          "output_type": "display_data",
          "data": {
            "image/png": "[encoded data removed]",
            "text/plain": [
              "<Figure size 432x288 with 1 Axes>"
            ]
          },
          "metadata": {
            "tags": [],
            "needs_background": "light"
          }
        }
      ]
    },
    {
      "cell_type": "code",
      "metadata": {
        "id": "IFdnj26Mb9Uu"
      },
      "source": [
        "kmeans = KMeans(n_clusters = 4, init ='k-means++',random_state=42)\r\n",
        "y_kmeans = kmeans.fit_predict(dataset[['LONGITUDE','LATITUDE']])"
      ],
      "execution_count": 173,
      "outputs": []
    },
    {
      "cell_type": "code",
      "metadata": {
        "id": "MZU5Yi9_nDo_"
      },
      "source": [
        "kmeans_1 = KMeans(n_clusters = 3, init = 'k-means++', random_state = 42)\r\n",
        "y_kmeans_1 = kmeans_1.fit_predict(x_1[:,-2:])"
      ],
      "execution_count": 176,
      "outputs": []
    },
    {
      "cell_type": "code",
      "metadata": {
        "id": "G0Ugf3gFeNBR",
        "outputId": "0e266a8b-e8c3-43c3-bc0a-fd1742048f4f",
        "colab": {
          "base_uri": "https://localhost:8080/"
        }
      },
      "source": [
        "print(np.unique(y_kmeans))\r\n",
        "print(kmeans.cluster_centers_)\r\n",
        "print(y_kmeans)"
      ],
      "execution_count": 177,
      "outputs": [
        {
          "output_type": "stream",
          "text": [
            "[0 1 2 3]\n",
            "[[ 16.81  75.39]\n",
            " [ 43.48 -74.61]\n",
            " [ 27.9   76.89]\n",
            " [ 22.74  88.59]]\n",
            "[0 0 0 ... 2 0 2]\n"
          ],
          "name": "stdout"
        }
      ]
    },
    {
      "cell_type": "code",
      "metadata": {
        "id": "IK-98G7tsfzX",
        "outputId": "c02abe93-7bb3-4c22-c400-5ffaecdd83a8",
        "colab": {
          "base_uri": "https://localhost:8080/"
        }
      },
      "source": [
        "print(np.unique(y_kmeans_1))\r\n",
        "print(kmeans_1.cluster_centers_)\r\n",
        "print(y_kmeans_1)"
      ],
      "execution_count": 178,
      "outputs": [
        {
          "output_type": "stream",
          "text": [
            "[0 1 2]\n",
            "[[ 16.84  75.21]\n",
            " [ 43.48 -74.61]\n",
            " [ 26.61  79.94]]\n",
            "[0 0 2 ... 0 0 0]\n"
          ],
          "name": "stdout"
        }
      ]
    },
    {
      "cell_type": "code",
      "metadata": {
        "id": "UYpXPahzhLCX",
        "outputId": "f0e66f34-363d-4a92-bde2-4ab0bed9b192",
        "colab": {
          "base_uri": "https://localhost:8080/",
          "height": 343
        }
      },
      "source": [
        "clusterss=pd.DataFrame(data=kmeans.cluster_centers_[y_kmeans],columns=['LONG','LATE'])\r\n",
        "clusterss.head(10)"
      ],
      "execution_count": 179,
      "outputs": [
        {
          "output_type": "execute_result",
          "data": {
            "text/html": [
              "<div>\n",
              "<style scoped>\n",
              "    .dataframe tbody tr th:only-of-type {\n",
              "        vertical-align: middle;\n",
              "    }\n",
              "\n",
              "    .dataframe tbody tr th {\n",
              "        vertical-align: top;\n",
              "    }\n",
              "\n",
              "    .dataframe thead th {\n",
              "        text-align: right;\n",
              "    }\n",
              "</style>\n",
              "<table border=\"1\" class=\"dataframe\">\n",
              "  <thead>\n",
              "    <tr style=\"text-align: right;\">\n",
              "      <th></th>\n",
              "      <th>LONG</th>\n",
              "      <th>LATE</th>\n",
              "    </tr>\n",
              "  </thead>\n",
              "  <tbody>\n",
              "    <tr>\n",
              "      <th>0</th>\n",
              "      <td>16.811707</td>\n",
              "      <td>75.385756</td>\n",
              "    </tr>\n",
              "    <tr>\n",
              "      <th>1</th>\n",
              "      <td>16.811707</td>\n",
              "      <td>75.385756</td>\n",
              "    </tr>\n",
              "    <tr>\n",
              "      <th>2</th>\n",
              "      <td>16.811707</td>\n",
              "      <td>75.385756</td>\n",
              "    </tr>\n",
              "    <tr>\n",
              "      <th>3</th>\n",
              "      <td>27.898205</td>\n",
              "      <td>76.886654</td>\n",
              "    </tr>\n",
              "    <tr>\n",
              "      <th>4</th>\n",
              "      <td>27.898205</td>\n",
              "      <td>76.886654</td>\n",
              "    </tr>\n",
              "    <tr>\n",
              "      <th>5</th>\n",
              "      <td>16.811707</td>\n",
              "      <td>75.385756</td>\n",
              "    </tr>\n",
              "    <tr>\n",
              "      <th>6</th>\n",
              "      <td>27.898205</td>\n",
              "      <td>76.886654</td>\n",
              "    </tr>\n",
              "    <tr>\n",
              "      <th>7</th>\n",
              "      <td>27.898205</td>\n",
              "      <td>76.886654</td>\n",
              "    </tr>\n",
              "    <tr>\n",
              "      <th>8</th>\n",
              "      <td>16.811707</td>\n",
              "      <td>75.385756</td>\n",
              "    </tr>\n",
              "    <tr>\n",
              "      <th>9</th>\n",
              "      <td>16.811707</td>\n",
              "      <td>75.385756</td>\n",
              "    </tr>\n",
              "  </tbody>\n",
              "</table>\n",
              "</div>"
            ],
            "text/plain": [
              "        LONG       LATE\n",
              "0  16.811707  75.385756\n",
              "1  16.811707  75.385756\n",
              "2  16.811707  75.385756\n",
              "3  27.898205  76.886654\n",
              "4  27.898205  76.886654\n",
              "5  16.811707  75.385756\n",
              "6  27.898205  76.886654\n",
              "7  27.898205  76.886654\n",
              "8  16.811707  75.385756\n",
              "9  16.811707  75.385756"
            ]
          },
          "metadata": {
            "tags": []
          },
          "execution_count": 179
        }
      ]
    },
    {
      "cell_type": "code",
      "metadata": {
        "id": "bphihCw7njv8"
      },
      "source": [
        "clusterss_1=pd.DataFrame(data=kmeans.cluster_centers_[y_kmeans_1],columns=['LONG_1','LATE_1'])\r\n"
      ],
      "execution_count": 180,
      "outputs": []
    },
    {
      "cell_type": "code",
      "metadata": {
        "id": "JnTWgTAAnflb"
      },
      "source": [
        ""
      ],
      "execution_count": 180,
      "outputs": []
    },
    {
      "cell_type": "code",
      "metadata": {
        "id": "uxH4SNgyh5_M",
        "outputId": "81f6cb01-febb-482f-8d03-ec849e435f91",
        "colab": {
          "base_uri": "https://localhost:8080/",
          "height": 195
        }
      },
      "source": [
        "dataset[['LONGITUDE','LATITUDE']]=clusterss\r\n",
        "dataset.head()"
      ],
      "execution_count": 181,
      "outputs": [
        {
          "output_type": "execute_result",
          "data": {
            "text/html": [
              "<div>\n",
              "<style scoped>\n",
              "    .dataframe tbody tr th:only-of-type {\n",
              "        vertical-align: middle;\n",
              "    }\n",
              "\n",
              "    .dataframe tbody tr th {\n",
              "        vertical-align: top;\n",
              "    }\n",
              "\n",
              "    .dataframe thead th {\n",
              "        text-align: right;\n",
              "    }\n",
              "</style>\n",
              "<table border=\"1\" class=\"dataframe\">\n",
              "  <thead>\n",
              "    <tr style=\"text-align: right;\">\n",
              "      <th></th>\n",
              "      <th>POSTED_BY</th>\n",
              "      <th>UNDER_CONSTRUCTION</th>\n",
              "      <th>RERA</th>\n",
              "      <th>BHK_NO.</th>\n",
              "      <th>BHK_OR_RK</th>\n",
              "      <th>SQUARE_FT</th>\n",
              "      <th>READY_TO_MOVE</th>\n",
              "      <th>RESALE</th>\n",
              "      <th>LONGITUDE</th>\n",
              "      <th>LATITUDE</th>\n",
              "      <th>TARGET(PRICE_IN_LACS)</th>\n",
              "    </tr>\n",
              "  </thead>\n",
              "  <tbody>\n",
              "    <tr>\n",
              "      <th>0</th>\n",
              "      <td>Owner</td>\n",
              "      <td>0</td>\n",
              "      <td>0</td>\n",
              "      <td>2</td>\n",
              "      <td>BHK</td>\n",
              "      <td>1300.236407</td>\n",
              "      <td>1</td>\n",
              "      <td>1</td>\n",
              "      <td>16.811707</td>\n",
              "      <td>75.385756</td>\n",
              "      <td>55.0</td>\n",
              "    </tr>\n",
              "    <tr>\n",
              "      <th>1</th>\n",
              "      <td>Dealer</td>\n",
              "      <td>0</td>\n",
              "      <td>0</td>\n",
              "      <td>2</td>\n",
              "      <td>BHK</td>\n",
              "      <td>1275.000000</td>\n",
              "      <td>1</td>\n",
              "      <td>1</td>\n",
              "      <td>16.811707</td>\n",
              "      <td>75.385756</td>\n",
              "      <td>51.0</td>\n",
              "    </tr>\n",
              "    <tr>\n",
              "      <th>2</th>\n",
              "      <td>Owner</td>\n",
              "      <td>0</td>\n",
              "      <td>0</td>\n",
              "      <td>2</td>\n",
              "      <td>BHK</td>\n",
              "      <td>933.159722</td>\n",
              "      <td>1</td>\n",
              "      <td>1</td>\n",
              "      <td>16.811707</td>\n",
              "      <td>75.385756</td>\n",
              "      <td>43.0</td>\n",
              "    </tr>\n",
              "    <tr>\n",
              "      <th>3</th>\n",
              "      <td>Owner</td>\n",
              "      <td>0</td>\n",
              "      <td>1</td>\n",
              "      <td>2</td>\n",
              "      <td>BHK</td>\n",
              "      <td>929.921143</td>\n",
              "      <td>1</td>\n",
              "      <td>1</td>\n",
              "      <td>27.898205</td>\n",
              "      <td>76.886654</td>\n",
              "      <td>62.5</td>\n",
              "    </tr>\n",
              "    <tr>\n",
              "      <th>4</th>\n",
              "      <td>Dealer</td>\n",
              "      <td>1</td>\n",
              "      <td>0</td>\n",
              "      <td>2</td>\n",
              "      <td>BHK</td>\n",
              "      <td>999.009247</td>\n",
              "      <td>0</td>\n",
              "      <td>1</td>\n",
              "      <td>27.898205</td>\n",
              "      <td>76.886654</td>\n",
              "      <td>60.5</td>\n",
              "    </tr>\n",
              "  </tbody>\n",
              "</table>\n",
              "</div>"
            ],
            "text/plain": [
              "  POSTED_BY  UNDER_CONSTRUCTION  ...   LATITUDE  TARGET(PRICE_IN_LACS)\n",
              "0     Owner                   0  ...  75.385756                   55.0\n",
              "1    Dealer                   0  ...  75.385756                   51.0\n",
              "2     Owner                   0  ...  75.385756                   43.0\n",
              "3     Owner                   0  ...  76.886654                   62.5\n",
              "4    Dealer                   1  ...  76.886654                   60.5\n",
              "\n",
              "[5 rows x 11 columns]"
            ]
          },
          "metadata": {
            "tags": []
          },
          "execution_count": 181
        }
      ]
    },
    {
      "cell_type": "code",
      "metadata": {
        "id": "NbAPdbcln0sO"
      },
      "source": [
        "test_data[['LONGITUDE','LATITUDE']]=clusterss_1"
      ],
      "execution_count": 182,
      "outputs": []
    },
    {
      "cell_type": "code",
      "metadata": {
        "id": "bbQD4kj3L2By"
      },
      "source": [
        ""
      ],
      "execution_count": 182,
      "outputs": []
    },
    {
      "cell_type": "code",
      "metadata": {
        "id": "zfx1C4NTMW3h",
        "colab": {
          "base_uri": "https://localhost:8080/"
        },
        "outputId": "1bb9c588-ca15-41c1-ad8e-292a3d52bae8"
      },
      "source": [
        "print(x)"
      ],
      "execution_count": 183,
      "outputs": [
        {
          "output_type": "stream",
          "text": [
            "[[2 0 0 ... 1 12.96991 77.59796]\n",
            " [1 0 0 ... 1 12.274538 76.644605]\n",
            " [2 0 0 ... 1 12.778033 77.632191]\n",
            " ...\n",
            " [1 0 0 ... 1 26.928785 75.828002]\n",
            " [2 0 0 ... 1 12.90015 80.22791]\n",
            " [1 0 1 ... 1 26.832353 75.841749]]\n"
          ],
          "name": "stdout"
        }
      ]
    },
    {
      "cell_type": "code",
      "metadata": {
        "id": "FJQfQleYMa0u",
        "colab": {
          "base_uri": "https://localhost:8080/"
        },
        "outputId": "416d0b93-5671-4397-eabc-b0aba3620bc5"
      },
      "source": [
        "dataset.info"
      ],
      "execution_count": 184,
      "outputs": [
        {
          "output_type": "execute_result",
          "data": {
            "text/plain": [
              "<bound method DataFrame.info of       POSTED_BY  UNDER_CONSTRUCTION  ...   LATITUDE  TARGET(PRICE_IN_LACS)\n",
              "0         Owner                   0  ...  75.385756                   55.0\n",
              "1        Dealer                   0  ...  75.385756                   51.0\n",
              "2         Owner                   0  ...  75.385756                   43.0\n",
              "3         Owner                   0  ...  76.886654                   62.5\n",
              "4        Dealer                   1  ...  76.886654                   60.5\n",
              "...         ...                 ...  ...        ...                    ...\n",
              "29446     Owner                   0  ...  76.886654                   45.0\n",
              "29447     Owner                   0  ...  88.590371                   16.0\n",
              "29448    Dealer                   0  ...  76.886654                   27.1\n",
              "29449     Owner                   0  ...  75.385756                   67.0\n",
              "29450    Dealer                   0  ...  76.886654                   27.8\n",
              "\n",
              "[29451 rows x 11 columns]>"
            ]
          },
          "metadata": {
            "tags": []
          },
          "execution_count": 184
        }
      ]
    },
    {
      "cell_type": "code",
      "metadata": {
        "id": "jZCp7qBaSE6i",
        "colab": {
          "base_uri": "https://localhost:8080/"
        },
        "outputId": "7c6d8d2d-62a2-4bcd-dc7a-8bea5e341a86"
      },
      "source": [
        "print(x)"
      ],
      "execution_count": 185,
      "outputs": [
        {
          "output_type": "stream",
          "text": [
            "[[2 0 0 ... 1 12.96991 77.59796]\n",
            " [1 0 0 ... 1 12.274538 76.644605]\n",
            " [2 0 0 ... 1 12.778033 77.632191]\n",
            " ...\n",
            " [1 0 0 ... 1 26.928785 75.828002]\n",
            " [2 0 0 ... 1 12.90015 80.22791]\n",
            " [1 0 1 ... 1 26.832353 75.841749]]\n"
          ],
          "name": "stdout"
        }
      ]
    },
    {
      "cell_type": "code",
      "metadata": {
        "id": "jF-X-cP1MpoJ"
      },
      "source": [
        "from sklearn.model_selection import train_test_split\r\n",
        "x_train,x_test,y_train,y_test = train_test_split(x,y,test_size=0.2,random_state=0)"
      ],
      "execution_count": 186,
      "outputs": []
    },
    {
      "cell_type": "code",
      "metadata": {
        "id": "KNaqtafal1zW",
        "colab": {
          "base_uri": "https://localhost:8080/"
        },
        "outputId": "71101ca0-1256-42ed-a2fb-437664be418e"
      },
      "source": [
        "x_test.shape"
      ],
      "execution_count": 187,
      "outputs": [
        {
          "output_type": "execute_result",
          "data": {
            "text/plain": [
              "(5891, 10)"
            ]
          },
          "metadata": {
            "tags": []
          },
          "execution_count": 187
        }
      ]
    },
    {
      "cell_type": "code",
      "metadata": {
        "id": "6Gsuh2H8O4kx",
        "colab": {
          "base_uri": "https://localhost:8080/"
        },
        "outputId": "aad616fa-c140-41a6-8f58-c4c9d22b2b47"
      },
      "source": [
        "from sklearn.ensemble import RandomForestRegressor\r\n",
        "regressor = RandomForestRegressor(n_estimators = 10, random_state = 0)\r\n",
        "regressor.fit(x_train, y_train)"
      ],
      "execution_count": 188,
      "outputs": [
        {
          "output_type": "execute_result",
          "data": {
            "text/plain": [
              "RandomForestRegressor(bootstrap=True, ccp_alpha=0.0, criterion='mse',\n",
              "                      max_depth=None, max_features='auto', max_leaf_nodes=None,\n",
              "                      max_samples=None, min_impurity_decrease=0.0,\n",
              "                      min_impurity_split=None, min_samples_leaf=1,\n",
              "                      min_samples_split=2, min_weight_fraction_leaf=0.0,\n",
              "                      n_estimators=10, n_jobs=None, oob_score=False,\n",
              "                      random_state=0, verbose=0, warm_start=False)"
            ]
          },
          "metadata": {
            "tags": []
          },
          "execution_count": 188
        }
      ]
    },
    {
      "cell_type": "code",
      "metadata": {
        "id": "LxSmH2RhRLk0",
        "colab": {
          "base_uri": "https://localhost:8080/"
        },
        "outputId": "84500700-ac9a-42ff-dd22-443d551205d8"
      },
      "source": [
        "x_train.shape"
      ],
      "execution_count": 189,
      "outputs": [
        {
          "output_type": "execute_result",
          "data": {
            "text/plain": [
              "(23560, 10)"
            ]
          },
          "metadata": {
            "tags": []
          },
          "execution_count": 189
        }
      ]
    },
    {
      "cell_type": "code",
      "metadata": {
        "id": "nyxHp4jtRW-N"
      },
      "source": [
        ""
      ],
      "execution_count": 189,
      "outputs": []
    },
    {
      "cell_type": "code",
      "metadata": {
        "id": "vSm8dTyiWek2",
        "colab": {
          "base_uri": "https://localhost:8080/"
        },
        "outputId": "535d5853-4184-44d6-e3f2-841079bf8e51"
      },
      "source": [
        "print(y_test)"
      ],
      "execution_count": 190,
      "outputs": [
        {
          "output_type": "stream",
          "text": [
            "[100.   36.5  80.  ...  32.   15.   67.5]\n"
          ],
          "name": "stdout"
        }
      ]
    },
    {
      "cell_type": "code",
      "metadata": {
        "id": "aQvbG1ncSt9I"
      },
      "source": [
        "y_pred = regressor.predict(x_test)\r\n",
        "np.set_printoptions(precision=2)\r\n",
        "l=np.concatenate((y_pred.reshape(len(y_pred),1), y_test.reshape(len(y_test),1)),1)\r\n",
        "# for i in l.tolist():\r\n",
        "#   print(i)\r\n",
        "#   '''print(l.tolist())'''"
      ],
      "execution_count": 191,
      "outputs": []
    },
    {
      "cell_type": "code",
      "metadata": {
        "id": "TcvzlX_zlpod",
        "outputId": "28f7db12-fe35-43cf-eccb-6e747eba8f5b",
        "colab": {
          "base_uri": "https://localhost:8080/"
        }
      },
      "source": [
        "l[:50,:]"
      ],
      "execution_count": 197,
      "outputs": [
        {
          "output_type": "execute_result",
          "data": {
            "text/plain": [
              "array([[481.8 , 100.  ],\n",
              "       [ 37.34,  36.5 ],\n",
              "       [ 43.55,  80.  ],\n",
              "       [ 60.95,  68.9 ],\n",
              "       [539.  , 430.  ],\n",
              "       [ 51.79,  45.  ],\n",
              "       [ 48.22,  45.9 ],\n",
              "       [ 48.46,  62.  ],\n",
              "       [ 71.49,  54.  ],\n",
              "       [253.  , 250.  ],\n",
              "       [235.  , 310.  ],\n",
              "       [ 24.94,  26.  ],\n",
              "       [ 24.97,  35.  ],\n",
              "       [ 55.8 ,  55.  ],\n",
              "       [ 70.89,  52.  ],\n",
              "       [123.13, 160.  ],\n",
              "       [114.1 ,  85.  ],\n",
              "       [ 80.83,  75.  ],\n",
              "       [ 27.35,  30.  ],\n",
              "       [ 28.37,  22.6 ],\n",
              "       [ 69.  ,  85.  ],\n",
              "       [ 27.64,  31.9 ],\n",
              "       [ 96.8 , 110.  ],\n",
              "       [ 42.91,  42.5 ],\n",
              "       [ 75.5 ,  70.  ],\n",
              "       [ 90.37,  99.6 ],\n",
              "       [ 77.8 ,  42.  ],\n",
              "       [ 20.94,  26.  ],\n",
              "       [ 42.03,  40.  ],\n",
              "       [ 58.39,  48.  ],\n",
              "       [ 45.3 ,  65.  ],\n",
              "       [ 59.86,  54.6 ],\n",
              "       [ 60.79,  46.9 ],\n",
              "       [ 30.04,  30.7 ],\n",
              "       [ 19.45,  17.  ],\n",
              "       [ 34.71,  40.  ],\n",
              "       [ 58.8 ,  35.  ],\n",
              "       [ 29.6 ,  22.  ],\n",
              "       [ 51.69,  35.  ],\n",
              "       [129.6 , 100.  ],\n",
              "       [237.  , 380.  ],\n",
              "       [ 83.5 ,  80.  ],\n",
              "       [ 35.95,  29.5 ],\n",
              "       [ 22.08,  27.4 ],\n",
              "       [ 97.2 ,  76.  ],\n",
              "       [ 42.77,  53.  ],\n",
              "       [ 65.6 ,  50.  ],\n",
              "       [ 32.22,  45.  ],\n",
              "       [ 87.68,  87.  ],\n",
              "       [ 38.43,  85.  ]])"
            ]
          },
          "metadata": {
            "tags": []
          },
          "execution_count": 197
        }
      ]
    },
    {
      "cell_type": "code",
      "metadata": {
        "id": "tmwwTTrIj-EF"
      },
      "source": [
        "y_pred_1=regressor.predict(x_1)\r\n"
      ],
      "execution_count": 192,
      "outputs": []
    },
    {
      "cell_type": "code",
      "metadata": {
        "id": "ouyhhQuPlOtm",
        "colab": {
          "base_uri": "https://localhost:8080/"
        },
        "outputId": "abfefaaf-d1d7-4885-e3bc-f011994b46a9"
      },
      "source": [
        "print(y_pred_1)"
      ],
      "execution_count": 193,
      "outputs": [
        {
          "output_type": "stream",
          "text": [
            "[  19.14   71.28   68.8  ... 8031.     86.81  628.  ]\n"
          ],
          "name": "stdout"
        }
      ]
    },
    {
      "cell_type": "code",
      "metadata": {
        "id": "AhlDTu2-TIfD",
        "colab": {
          "base_uri": "https://localhost:8080/"
        },
        "outputId": "98904fa7-77e7-4f11-cdcc-6061054a9f3d"
      },
      "source": [
        "from sklearn.metrics import r2_score\r\n",
        "r2_score(y_test, y_pred)"
      ],
      "execution_count": 194,
      "outputs": [
        {
          "output_type": "execute_result",
          "data": {
            "text/plain": [
              "0.9550639723425309"
            ]
          },
          "metadata": {
            "tags": []
          },
          "execution_count": 194
        }
      ]
    },
    {
      "cell_type": "code",
      "metadata": {
        "id": "XB0RcPWZuLav"
      },
      "source": [
        ""
      ],
      "execution_count": null,
      "outputs": []
    },
    {
      "cell_type": "code",
      "metadata": {
        "id": "ZdUdf6TkTzA_",
        "colab": {
          "base_uri": "https://localhost:8080/"
        },
        "outputId": "f4d47b97-a19a-4729-882b-3a1451429cb6"
      },
      "source": [
        "'''np.count_nonzero(np.abs(y_test - y_pred) > 30)'''\r\n",
        "np.count_nonzero(np.abs(y_test - y_pred) == 0)"
      ],
      "execution_count": 70,
      "outputs": [
        {
          "output_type": "execute_result",
          "data": {
            "text/plain": [
              "75"
            ]
          },
          "metadata": {
            "tags": []
          },
          "execution_count": 70
        }
      ]
    },
    {
      "cell_type": "code",
      "metadata": {
        "id": "WyAvxZ2Zh7W0",
        "outputId": "186b3d5b-13cf-43b8-e90e-5701b66a7224",
        "colab": {
          "base_uri": "https://localhost:8080/"
        }
      },
      "source": [
        "a=np.array([2,3,4,6])\r\n",
        "print(a)\r\n",
        "a[[0,0,0,3,0,0]]"
      ],
      "execution_count": 111,
      "outputs": [
        {
          "output_type": "stream",
          "text": [
            "[2 3 4 6]\n"
          ],
          "name": "stdout"
        },
        {
          "output_type": "execute_result",
          "data": {
            "text/plain": [
              "array([2, 2, 2, 6, 2, 2])"
            ]
          },
          "metadata": {
            "tags": []
          },
          "execution_count": 111
        }
      ]
    }
  ]
}